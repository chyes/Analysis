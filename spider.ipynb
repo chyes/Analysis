{
 "cells": [
  {
   "cell_type": "code",
   "execution_count": 5,
   "metadata": {},
   "outputs": [],
   "source": [
    "import requests\n",
    "import json\n",
    "from bs4 import BeautifulSoup\n",
    "import urllib\n",
    "import random\n",
    "import re"
   ]
  },
  {
   "cell_type": "code",
   "execution_count": 2,
   "metadata": {},
   "outputs": [],
   "source": [
    "my_headers = [\n",
    "    \"Mozilla/5.0 (Windows NT 6.3; WOW64) AppleWebKit/537.36 (KHTML, like Gecko) Chrome/39.0.2171.95 Safari/537.36\",\n",
    "    \"Mozilla/5.0 (Macintosh; Intel Mac OS X 10_9_2) AppleWebKit/537.36 (KHTML, like Gecko) Chrome/35.0.1916.153 Safari/537.36\",\n",
    "    \"Mozilla/5.0 (Windows NT 6.1; WOW64; rv:30.0) Gecko/20100101 Firefox/30.0\",\n",
    "    \"Mozilla/5.0 (Macintosh; Intel Mac OS X 10_9_2) AppleWebKit/537.75.14 (KHTML, like Gecko) Version/7.0.3 Safari/537.75.14\",\n",
    "    \"Mozilla/5.0 (compatible; MSIE 10.0; Windows NT 6.2; Win64; x64; Trident/6.0)\",\n",
    "    'Mozilla/5.0 (Windows; U; Windows NT 5.1; it; rv:1.8.1.11) Gecko/20071127 Firefox/2.0.0.11',\n",
    "    'Opera/9.25 (Windows NT 5.1; U; en)',\n",
    "    'Mozilla/4.0 (compatible; MSIE 6.0; Windows NT 5.1; SV1; .NET CLR 1.1.4322; .NET CLR 2.0.50727)',\n",
    "    'Mozilla/5.0 (compatible; Konqueror/3.5; Linux) KHTML/3.5.5 (like Gecko) (Kubuntu)',\n",
    "    'Mozilla/5.0 (X11; U; Linux i686; en-US; rv:1.8.0.12) Gecko/20070731 Ubuntu/dapper-security Firefox/1.5.0.12',\n",
    "    'Lynx/2.8.5rel.1 libwww-FM/2.14 SSL-MM/1.4.1 GNUTLS/1.2.9',\n",
    "    \"Mozilla/5.0 (X11; Linux i686) AppleWebKit/535.7 (KHTML, like Gecko) Ubuntu/11.04 Chromium/16.0.912.77 Chrome/16.0.912.77 Safari/535.7\",\n",
    "    \"Mozilla/5.0 (X11; Ubuntu; Linux i686; rv:10.0) Gecko/20100101 Firefox/10.0 \"\n",
    "]"
   ]
  },
  {
   "cell_type": "code",
   "execution_count": null,
   "metadata": {
    "scrolled": true
   },
   "outputs": [],
   "source": [
    "url = 'https://movie.douban.com/subject/30391726/'\n",
    "headers = {\n",
    "    'Accept': 'text/html,application/xhtml+xml,application/xml;q=0.9,image/webp,image/apng,*/*;q=0.8,application/signed-exchange;v=b3',\n",
    "    'Referer': 'https://movie.douban.com/typerank?type_name=%E5%89%A7%E6%83%85&type=11&interval_id=100:90&action=',\n",
    "    'User-Agent': random.choice(my_headers),\n",
    "    'Cookie': 'll=\"108303\"; bid=qt3DjXGctMY; _vwo_uuid_v2=DDE2FC352A31B5CED2C1FBE06BD266B5E|a09ea9946048f9d5c961236e90cdd3a7; ct=y; __utmc=30149280; __utmc=223695111; _pk_ref.100001.4cf6=%5B%22%22%2C%22%22%2C1580893039%2C%22https%3A%2F%2Fopen.weixin.qq.com%2Fconnect%2Fqrconnect%3Fappid%3Dwxd9c1c6bbd5d59980%26redirect_uri%3Dhttps%253A%252F%252Fwww.douban.com%252Faccounts%252Fconnect%252Fwechat%252Fcallback%26response_type%3Dcode%26scope%3Dsnsapi_login%26state%3Dqt3DjXGctMY%252523douban-web%252523https%25253A%252F%252Fmovie.douban.com%252Fsubject%252F30170861%252F%22%5D; _pk_ses.100001.4cf6=*; push_noty_num=0; push_doumail_num=0; __utma=30149280.806819627.1580691773.1580893039.1580893727.9; __utmz=30149280.1580893727.9.3.utmcsr=baidu|utmccn=(organic)|utmcmd=organic; __utmt=1; __utmv=30149280.18585; __utmb=30149280.2.10.1580893727; __utma=223695111.1559265245.1580691773.1580893727.1580894202.10; __utmb=223695111.0.10.1580894202; __utmz=223695111.1580894202.10.8.utmcsr=baidu|utmccn=(organic)|utmcmd=organic|utmctr=%E8%B1%86%E7%93%A3; dbcl2=\"185853723:CzvF1lNOBb0\"; ck=oyhx; _pk_id.100001.4cf6=659fa348d19995f7.1580691776.8.1580894361.1580887337.'\n",
    "}\n",
    "proxie = {\n",
    "    'http': '182.35.85.114:9999'\n",
    "}\n",
    "\n",
    "res = requests.get(url, headers=headers, proxies=proxie)\n",
    "print(res.text)\n",
    "\n"
   ]
  },
  {
   "cell_type": "code",
   "execution_count": 38,
   "metadata": {},
   "outputs": [],
   "source": [
    "import re"
   ]
  },
  {
   "cell_type": "code",
   "execution_count": 191,
   "metadata": {},
   "outputs": [],
   "source": [
    "html = res.text\n"
   ]
  },
  {
   "cell_type": "code",
   "execution_count": 40,
   "metadata": {},
   "outputs": [
    {
     "data": {
      "text/plain": [
       "['肖申克的救赎 The Shawshank Redemption']"
      ]
     },
     "execution_count": 40,
     "metadata": {},
     "output_type": "execute_result"
    }
   ],
   "source": [
    "title = re.findall(r'<span property=\"v:itemreviewed\">(.*?)</span>', html)\n",
    "title"
   ]
  },
  {
   "cell_type": "code",
   "execution_count": 196,
   "metadata": {},
   "outputs": [
    {
     "data": {
      "text/plain": [
       "[]"
      ]
     },
     "execution_count": 196,
     "metadata": {},
     "output_type": "execute_result"
    }
   ],
   "source": [
    "daoyian = re.findall(r'<a href=\".*\" rel=\"v:directedBy\">(.*?)</a>', html)\n",
    "daoyian"
   ]
  },
  {
   "cell_type": "code",
   "execution_count": 42,
   "metadata": {},
   "outputs": [
    {
     "name": "stdout",
     "output_type": "stream",
     "text": [
      "['蒂姆·罗宾斯', '摩根·弗里曼', '鲍勃·冈顿', '威廉姆·赛德勒', '克兰西·布朗', '吉尔·贝罗斯', '马克·罗斯顿', '詹姆斯·惠特摩', '杰弗里·德曼', '拉里·布兰登伯格', '尼尔·吉恩托利', '布赖恩·利比', '大卫·普罗瓦尔', '约瑟夫·劳格诺', '祖德·塞克利拉', '保罗·麦克兰尼', '芮妮·布莱恩', '阿方索·弗里曼', 'V·J·福斯特', '弗兰克·梅德拉诺', '马克·迈尔斯', '尼尔·萨默斯', '耐德·巴拉米', '布赖恩·戴拉特', '唐·麦克马纳斯']\n"
     ]
    }
   ],
   "source": [
    "attrs = re.findall(r'<a href=.*? rel=\"v:starring\">(.*?)</a>', html)\n",
    "print(attrs)"
   ]
  },
  {
   "cell_type": "code",
   "execution_count": 43,
   "metadata": {},
   "outputs": [
    {
     "data": {
      "text/plain": [
       "['剧情', '犯罪']"
      ]
     },
     "execution_count": 43,
     "metadata": {},
     "output_type": "execute_result"
    }
   ],
   "source": [
    "types = re.findall(r'<span property=\"v:genre\">(.*?)</span>', html)\n",
    "types"
   ]
  },
  {
   "cell_type": "code",
   "execution_count": 44,
   "metadata": {},
   "outputs": [
    {
     "data": {
      "text/plain": [
       "[' 美国']"
      ]
     },
     "execution_count": 44,
     "metadata": {},
     "output_type": "execute_result"
    }
   ],
   "source": [
    "Producte_country = re.findall(r'<span class=\"pl\">制片国家/地区:</span>(.*?)<br/>', html)\n",
    "Producte_country"
   ]
  },
  {
   "cell_type": "code",
   "execution_count": 45,
   "metadata": {},
   "outputs": [
    {
     "data": {
      "text/plain": [
       "[' 英语']"
      ]
     },
     "execution_count": 45,
     "metadata": {},
     "output_type": "execute_result"
    }
   ],
   "source": [
    "language = re.findall(r'<span class=\"pl\">语言:</span>(.*?)<br/>', html)\n",
    "language"
   ]
  },
  {
   "cell_type": "code",
   "execution_count": 46,
   "metadata": {},
   "outputs": [
    {
     "data": {
      "text/plain": [
       "['1994-10-14(美国)']"
      ]
     },
     "execution_count": 46,
     "metadata": {},
     "output_type": "execute_result"
    }
   ],
   "source": [
    "RDate = re.findall(r'<span property=\"v:initialReleaseDate\" content=\".*\">(.*?)</span>', html)\n",
    "RDate"
   ]
  },
  {
   "cell_type": "code",
   "execution_count": 47,
   "metadata": {},
   "outputs": [
    {
     "data": {
      "text/plain": [
       "['美国']"
      ]
     },
     "execution_count": 47,
     "metadata": {},
     "output_type": "execute_result"
    }
   ],
   "source": [
    "RLocale = re.findall(r'<span property=\"v:initialReleaseDate\" content=\".*\">.*\\((.*?)\\)</span>', html)\n",
    "RLocale"
   ]
  },
  {
   "cell_type": "code",
   "execution_count": 48,
   "metadata": {},
   "outputs": [
    {
     "data": {
      "text/plain": [
       "'9.7'"
      ]
     },
     "execution_count": 48,
     "metadata": {},
     "output_type": "execute_result"
    }
   ],
   "source": [
    "score = re.findall(r'<strong class=\"ll rating_num\" property=\"v:average\">(.*?)</strong>', html)\n",
    "score[0]"
   ]
  },
  {
   "cell_type": "code",
   "execution_count": 49,
   "metadata": {},
   "outputs": [
    {
     "data": {
      "text/plain": [
       "['1800205']"
      ]
     },
     "execution_count": 49,
     "metadata": {},
     "output_type": "execute_result"
    }
   ],
   "source": [
    "rating_people =  re.findall(r'<span property=\"v:votes\">(.*?)</span>', html)\n",
    "rating_people"
   ]
  },
  {
   "cell_type": "code",
   "execution_count": 50,
   "metadata": {},
   "outputs": [
    {
     "data": {
      "text/plain": [
       "['1994']"
      ]
     },
     "execution_count": 50,
     "metadata": {},
     "output_type": "execute_result"
    }
   ],
   "source": [
    "year =  re.findall(r'<span class=\"year\">\\((.*?)\\)</span>', html)\n",
    "year"
   ]
  },
  {
   "cell_type": "code",
   "execution_count": 51,
   "metadata": {},
   "outputs": [
    {
     "data": {
      "text/plain": [
       "['142分钟']"
      ]
     },
     "execution_count": 51,
     "metadata": {},
     "output_type": "execute_result"
    }
   ],
   "source": [
    "runtime = re.findall(r'<span property=\"v:runtime\" content=.*>(.*?)</span>', html)\n",
    "runtime"
   ]
  },
  {
   "cell_type": "code",
   "execution_count": 159,
   "metadata": {},
   "outputs": [],
   "source": [
    "year = re.findall(r'<span class=\"year\">\\((.*?)\\)</span>', html)"
   ]
  },
  {
   "cell_type": "code",
   "execution_count": null,
   "metadata": {},
   "outputs": [],
   "source": [
    "director = re.findall(r'<a href=\".*\" rel=\"v:directedBy\">(.*?)</a>', html)"
   ]
  },
  {
   "cell_type": "code",
   "execution_count": 64,
   "metadata": {},
   "outputs": [
    {
     "data": {
      "text/plain": [
       "[]"
      ]
     },
     "execution_count": 64,
     "metadata": {},
     "output_type": "execute_result"
    }
   ],
   "source": [
    "summary = re.findall(r'<span property=\".*\">(.*?)<br />', html)\n",
    "summary"
   ]
  },
  {
   "cell_type": "code",
   "execution_count": null,
   "metadata": {},
   "outputs": [],
   "source": []
  },
  {
   "cell_type": "code",
   "execution_count": null,
   "metadata": {},
   "outputs": [],
   "source": []
  },
  {
   "cell_type": "code",
   "execution_count": null,
   "metadata": {},
   "outputs": [],
   "source": []
  },
  {
   "cell_type": "code",
   "execution_count": null,
   "metadata": {},
   "outputs": [],
   "source": []
  },
  {
   "cell_type": "code",
   "execution_count": 74,
   "metadata": {},
   "outputs": [
    {
     "name": "stdout",
     "output_type": "stream",
     "text": [
      "ISO-8859-1\n",
      "<!DOCTYPE html><html lang=\"zh-CN\">\n",
      "<head>\n",
      "<meta charset=\"UTF-8\">\n",
      "<title>3月18日香港疫情最新消息：新增10例新冠肺炎确诊病例-闽南网</title>\n",
      "<meta name=\"keywords\" content=\" 3月18日香港疫情最新消息：新增10例新冠肺炎确诊病例\" />\n",
      "<meta name=\"description\" content=\"3月18日香港疫情最新消息：新增10例新冠肺炎确诊病例\" />\n",
      "<link rel=\"canonical\" href=\"http://www.mnw.cn/news/china/2262304.html\" />\n",
      "<meta name=\"mobile-agent\" content=\"format=html5; url=http://m.mnw.cn/news/china/2262304.html\">\n",
      "<link rel=\"stylesheet\" type=\"text/css\" href=\"http://img.mnw.cn/style/base.css\" />\n",
      "<link rel=\"stylesheet\" type=\"text/css\" href=\"http://img.mnw.cn/style/info/info.css\" />\n",
      "<script type=\"text/javascript\" src=\"http://img.mnw.cn/js/config.js\"></script>\n",
      "<script type=\"text/javascript\" src=\"http://img.mnw.cn/script/base.js\"></script>\n",
      "<script type=\"text/javascript\" src=\"http://img.mnw.cn/js/fet.js\"></script>\n",
      "<script type=\"text/javascript\" src=\"http://img.mnw.cn/js/repos.js\"></script>\n",
      "</head>\n",
      "<body>\n",
      "\t<div class=\"mnw_top_s3 iw\">\n",
      "\t\t<a href=\"/\" class=\"logo ibg\" title=\"闽南网\"></a>\n",
      "\t\t<div class=\"nav\">\t\t    \n",
      "\t\t\t<div class=\"nav\"  style=\"margin:2px 0 0 10px\">\n",
      "\t\t\t<a href=\"http://www.mnw.cn/news/\">新闻</a>\n",
      "\t\t\t<a href=\"http://www.mnw.cn/quanzhou/\">泉州</a>\n",
      "\t\t\t<a href=\"http://www.mnw.cn/jinjiang/\">晋江</a>\n",
      "\t\t\t<a href=\"http://zz.mnw.cn/\">漳州</a>\n",
      "\t\t\t<a href=\"http://www.mnw.cn/xiamen/\">厦门</a>\n",
      "\t\t\t<a href=\"http://www.mnw.cn/news/fujian/\">福建</a>\n",
      "\t\t\t<a href=\"http://www.mnw.cn/news/china/\">国内</a>\n",
      "\t\t\t<a href=\"http://www.mnw.cn/news/world/\">国际</a>\n",
      "\t\t\t<a href=\"http://www.mnw.cn/edu/\">教育</a>\n",
      "\t\t\t<a href=\"http://www.mnw.cn/yule/\">娱乐</a>\n",
      "\t\t\t<a href=\"http://www.mnw.cn/keji/\">科技</a>\n",
      "\t\t\t<a href=\"javascript:;\" class=\"more ibg\">更多</a>\n",
      "\t\t\t<div class=\"mnav\">\n",
      "\t\t\t\t<div class=\"u\">\n",
      "\t\t\t\t\t<a href=\"http://www.mnw.cn/shishi/\" class=\"b\">石狮</a>\n",
      "\t\t\t\t\t<a href=\"http://www.mnw.cn/nanan/\">南安</a>\n",
      "\t\t\t\t\t<a href=\"http://www.mnw.cn/quanzhou/anxi/\">安溪</a>\n",
      "\n",
      "\t\t\t\t\t<a href=\"http://zz.mnw.cn/longhai/\" class=\"b\">龙海</a>\n",
      "\t\t\t\t\t<a href=\"http://zz.mnw.cn/changtai/\">长泰</a>\n",
      "\t\t\t\t\t<a href=\"http://zz.mnw.cn/yunxiao/\">云霄</a>\n",
      "\t\t\t\t\t<a href=\"http://zz.mnw.cn/zhangpu/\">漳浦</a>\n",
      "\n",
      "\t\t\t\t\t<a href=\"http://www.mnw.cn/fuzhou/\" class=\"b\">福州</a>\n",
      "\t\t\t\t\t<a href=\"http://www.mnw.cn/news/pingtan/\">平潭</a>\n",
      "\t\t\t\t\t<a href=\"http://www.mnw.cn/ningde/\">宁德</a>\n",
      "\t\t\t\t\t<a href=\"http://www.mnw.cn/putian/\">莆田</a>\n",
      "\n",
      "\t\t\t\t\t<a href=\"http://www.mnw.cn/quanzhou/huian/\" class=\"b\">惠安</a>\n",
      "\t\t\t\t\t<a href=\"http://www.mnw.cn/quanzhou/yc/\">永春</a>\n",
      "\t\t\t\t\t<a href=\"http://www.mnw.cn/quanzhou/dehua/\">德化</a>\n",
      "\n",
      "\t\t\t\t\t<a href=\"http://zz.mnw.cn/dongshan/\" class=\"b\">东山</a>\n",
      "\t\t\t\t\t<a href=\"http://zz.mnw.cn/nanjing/\">南靖</a>\n",
      "\t\t\t\t\t<a href=\"http://zz.mnw.cn/pinghe/\">平和</a>\n",
      "\t\t\t\t\t<a href=\"http://zz.mnw.cn/huaan/\">华安</a>\n",
      "\n",
      "\t\t\t\t\t<a href=\"http://www.mnw.cn/longyan/\" class=\"b\">龙岩</a>\n",
      "\t\t\t\t\t<a href=\"http://www.mnw.cn/nanping/\">南平</a>\n",
      "\t\t\t\t\t<a href=\"http://www.mnw.cn/sanming/\">三明</a>\n",
      "\t\t\t\t\t<a href=\"http://www.mnw.cn/sanming/yongan/\">永安</a>\n",
      "\n",
      "\n",
      "\t\t\t\t</div>\n",
      "\t\t\t\t<div class=\"d\">\n",
      "\t\t\t\t\t<a href=\"http://www.mnw.cn/news/top/\">头条新闻</a>\n",
      "\t\t\t\t\t<a href=\"http://www.mnw.cn/news/shehui/\">社会新闻</a>\n",
      "\t\t\t\t\t<a href=\"http://www.mnw.cn/news/view/\">时事新闻</a>\n",
      "\t\t\t\t\t<a href=\"http://www.mnw.cn/taiwan/\">海峡两岸</a>\n",
      "\t\t\t\t\t<a href=\"http://www.mnw.cn/news/tiyu/\">体育新闻</a>\n",
      "\t\t\t\t\t<a href=\"http://www.mnw.cn/news/digi/\">数码新闻</a>\n",
      "\t\t\t\t\t<a href=\"http://www.mnw.cn/news/cj/\">财经新闻</a>\n",
      "\t\t\t\t\t<a href=\"http://house.mnw.cn/\">泉州房产</a>\n",
      "\t\t\t\t\t<a href=\"http://www.mnw.cn/tour/\">旅游</a>\n",
      "\t\t\t\t\t<a href=\"http://caijing.mnw.cn/\">闽南财经</a>\n",
      "\t\t\t\t\t<a href=\"http://www.mnw.cn/wenhua/\">闽南文化</a>\n",
      "\t\t\t\t\t<a href=\"http://www.mnw.cn/keji/youxi/\">游戏新闻</a>\n",
      "\t\t\t\t\t<a href=\"http://www.mnw.cn/news/ent/\">娱乐新闻</a>\n",
      "\t\t\t\t\t<a href=\"http://www.mnw.cn/sports/\">体育赛事</a>\n",
      "\t\t\t\t\t<a href=\"http://www.mnw.cn/video/\">闽南视频</a>\n",
      "\t\t\t\t\t<a href=\"http://www.mnjkw.cn/\">健康之路</a>\n",
      "\t\t\t\t\t<a href=\"http://www.mnw.cn/zt/\">专题报道</a>\n",
      "\t\t\t\t\t<a href=\"http://www.mnw.cn/shiping/\">时评</a>\n",
      "\t\t\t\t</div>\n",
      "\t\t\t</div>\n",
      "\t\t</div>\n",
      "\t\t</div>\n",
      "\t\t<div class=\"mnw_log_status\">\n",
      "\t\t\t<a class=\"mod_passwords login\" rel=\"nofollow\" onclick=\"User.Login();\" href=\"javascript:;\">登录</a>\n",
      "\t\t\t<a class=\"mod_passwords\" rel=\"nofollow\" href=\"http://app.mnw.cn/?app=member&amp;controller=index&amp;action=register\">注册</a>\n",
      "\t\t</div>\n",
      "\t</div>\n",
      "        \n",
      "\t<div class=\"iw\"><script>(function() {var s = \"_\" + Math.random().toString(36).slice(2);document.write('<div id=\"' + s + '\"></div>');(window.slotbydup=window.slotbydup || []).push({id: '6004697',container: s,size: '0,0',display: 'inlay-fix'});})();</script><script src=\"http://dup.baidustatic.com/js/os.js\"></script><img src=\"http://g.cn.miaozhen.com/x/k=2124496&p=7UakL&dx=__IPDX__&rt=2&o=http://upload.mnw.cn/2020/0122/1579698012765.jpg\" style=\"width:0px;height:0px;\" /></div>\n",
      "\t<div class=\"path iw bg\">\n",
      "\t\t<div class=\"p\">\n",
      "\t\t\t<a href=\"http://www.mnw.cn/\">闽南网</a> <span>&gt;</span>\n",
      "\t\t\t\t\t\t<a href=\"http://www.mnw.cn/news/\">新闻中心</a> <span>&gt;</span>\n",
      "\t\t\t\t\t\t<a href=\"http://www.mnw.cn/news/china/\">国内新闻</a> <span>&gt;</span>\n",
      "\t\t\t\t\t\t<span>正文</span>\n",
      "\t\t</div>\n",
      "\t\t<div class=\"s\">\n",
      "\t\t\t<input type=\"text\" id=\"stxt\" name=\"stxt\"  hint=\"搜索内容\" value=\"搜索内容\" />\n",
      "\t\t\t<a href=\"javascript:;\"  rel=\"nofollow\"  target=\"_blank\" class=\"sb bg\"></a>\n",
      "\t\t</div>\n",
      "\t</div>\n",
      "\t<div class=\"iw ic\">\n",
      "\t\t<div class=\"l\">\n",
      "\t\t\t<h1>3月18日香港疫情最新消息：新增10例新冠肺炎确诊病例<span id=\"imageplus-nopic-icon\"></span></h1>\n",
      "\t\t\t<div class=\"ii\">\n",
      "\t\t\t\t<div class=\"il\">\n",
      "\t\t\t\t \t\t\t\t\t<span>来源:环球网  </span>\n",
      "\t\t\t\t \t\t\t\t<span>2020-03-18 08:47   </span>\n",
      "\t\t\t\t<a href=\"http://www.mnw.cn/\" class=\"cb\">http://www.mnw.cn/</a>\n",
      "\t\t\t\t</div>\n",
      "\t\t\t\t<div class=\"ishare\">\n",
      "\t\t\t\t\t<a class=\"comb ibg\"></a>\n",
      "\t\t\t\t\t<div class=\"bdsharebuttonbox\"><a title=\"分享到新浪微博\" href=\"#\" rel=\"nofollow\"  class=\"bds_tsina\" data-cmd=\"tsina\"></a><a rel=\"nofollow\" title=\"分享到微信\" href=\"#\" class=\"bds_weixin\" data-cmd=\"weixin\"></a></div>\n",
      "\t\t\t\t</div>\n",
      "\t\t\t</div>\n",
      "\t\t\t                                                     \t\t\t\n",
      "\t\t\t<div class=\"icontent\">\n",
      "\t\t\t\t<p>　　据香港特区政府18日凌晨发布的新闻公报显示，香港昨日（17日）再新增5例新冠肺炎确诊病例，香港17日共新增10例确诊病例，其中8人曾赴欧洲，1人曾赴美国，另有1人未曾出境。截至17日20时，香港确诊病例累计167例，另有1例疑似病例。</p>\n",
      "<p>　　公报称，香港昨日再新增的5例确诊病例中包括一名21岁男子，他过往健康良好，于伦敦留学。他于3月10日开始咳嗽，3月16日抵达香港国际机场时获香港卫生署港口卫生科转介至广华医院。病人的呼吸道样本17日证实对新冠病毒呈阳性反应，及后转往伊利沙伯医院，现时情况稳定。病人于3月15日由伦敦乘坐英国航空 BA0033（经济舱）抵达马来西亚吉隆坡，并于3月16日由吉隆坡乘坐CX5734（经济舱）抵达香港。</p>\n",
      "<p>　　另有一名24岁男子确诊感染，他过往健康良好，早前于丹麦哥本哈根工作。他于三月五日出现轻微气促及肚泻、3月16日开始喉咙痛。病人3月16日抵达香港国际机场时获港口卫生科转介至玛嘉烈医院，其呼吸道样本17日证实对新冠病毒呈阳性反应，现时情况稳定。病人于2月29日至3月10日从哥本哈根往巴黎及巴塞隆拿旅游，于3月10日返回哥本哈根。他于3月15日由哥本哈根乘坐卡塔尔航空QR160（经济舱）到卡塔尔多哈，并由多哈乘坐QR818（经济舱）于3月16日抵港。</p>\n",
      "<p>　　香港昨日再新增的5例确诊病例中还包括一名27岁男子，他过往健康良好，于伦敦留学。他于3月10日开始咳嗽，3月16日抵达香港国际机场时获港口卫生科转介至明爱医院。病人的呼吸道样本17日证实对新冠病毒呈阳性反应，及后转往玛嘉烈医院，现时情况稳定。病人于3月15日由伦敦乘坐英国航空 BA27（商务舱）于3月16日抵港。</p>\n",
      "<p>　　另一名25岁男空服人员确诊感染，其过往健康良好，居于牛池湾街彩辉邨彩华楼。病人没有出现病征，由于他的航空公司通知他曾当值的航班有确诊病人，他于3月16日往东九龙普通科门诊诊所求诊，其深喉唾液样本17日证实对新冠病毒呈阳性反应，将会安排入住基督教联合医院接受治疗，现时情况稳定。他于3月5日在香港往波士顿的国泰航空CX812（商务舱）执勤，逗留波士顿数天。他其后于从波士顿往香港的国泰航空CX811（商务舱）执勤及在3月10日抵港，并于机上曾服务两名其后确诊的病人。他同住的父母没有出现病征，将被安排接受检疫。</p>\n",
      "<p>　　此外，还有一名43岁男子也确诊感染，他过往健康良好，独居于湾仔皇后大道东258号尚翘峰2座。病人于3月9日出现咳嗽、自3月14日开始鼻塞及头痛。他3月16日往贝夫人普通科门诊诊所求诊，其深喉唾液样本17日证实对新冠病毒呈阳性反应，已入住韦尔斯亲王医院接受治疗，现时情况稳定。病人于3月4至11日到访奥地利，并乘坐LX138（商务舱）从瑞士苏黎世于3月11日抵港。调查发现他于奥地利曾与一名其后于芬兰确诊新冠的朋友会面。</p>\n",
      "<p>　　公报呼吁，曾乘坐确诊病人同一航班相同机舱的人士，请致电香港卫生署卫生防护中心热线。<span>【环球网报道】</span></p>                            \t\t\t\t<div style=\"color:#848484;text-indent: 2em;\">原标题：香港昨日新增10例新冠肺炎确诊病例，其中9人曾出境</div>\n",
      "\t\t\t\t\t\t\t\t<div class=\"editor\"  style=\"text-align:right;\">\n",
      "\t\t\t\t\t<span style=\"color:#848484;\">责任编辑：郑莉莉</span>\n",
      "\t\t\t\t</div>\n",
      "\t\t\t\t                               \n",
      "\t\t\t</div>\n",
      "\t\t\t<script>(function() {var s = \"_\" + Math.random().toString(36).slice(2);document.write('<div id=\"' + s + '\"></div>');(window.slotbydup=window.slotbydup || []).push({id: '6016401',container: s,size: '0,0',display: 'inlay-fix'});})();</script>\n",
      "\n",
      "\t\t\t                                                               \t\t<dl class=\"llist\">\n",
      "\t\t\t<dt>\n",
      "\t\t\t\t<b>相关阅读:</b>\n",
      "\t\t\t</dt>\n",
      "\t\t\t<dd>\n",
      "\t\t\t\t\t\t\t\t\t\t\t\t<div class=\"ibg\" ><a href=\"http://www.mnw.cn/news/china/2260736.html\" target=\"_blank\">2020年清明节几月几日星期几 2020清明节放假安排</a><span>2020-03-13</span></div>\n",
      "\t\t\t\t\t\t\t  \t\t\t\t\t\t\t\t\t<div class=\"ibg\" ><a href=\"http://www.mnw.cn/news/digi/2260992.html\" target=\"_blank\">马云向美国非洲捐赠医疗物资 给美国50万份试剂盒和100万只口罩</a><span>2020-03-13</span></div>\n",
      "\t\t\t\t\t\t\t  \t\t\t\t\t\t\t\t\t<div class=\"ibg\" ><a href=\"http://www.mnw.cn/news/shehui/2261504.html\" target=\"_blank\">黑龙江强化医疗废物废水处置防“二次污染”</a><span>2020-03-16</span></div>\n",
      "\t\t\t\t\t\t\t  \t\t\t</dd>\n",
      "\t\t</dl>\n",
      "\t\t\n",
      "\t\t<dl class=\"clist\">\n",
      "\t\t\t\t<dt>\n",
      "\t\t\t\t\t<a href=\"javascript:;\" class=\"ibg sel\">新闻</a>\n",
      "\t\t\t\t\t<a href=\"javascript:;\" class=\"ibg\">娱乐</a>\n",
      "\t\t\t\t\t<a href=\"javascript:;\" class=\"ibg\">福建</a>\n",
      "\t\t\t\t\t<a href=\"javascript:;\" class=\"ibg\">泉州</a>\n",
      "\t\t\t\t\t<a href=\"javascript:;\" class=\"ibg\">漳州</a>\n",
      "\t\t\t\t\t<a href=\"javascript:;\" class=\"ibg last\">厦门</a>\n",
      "\t\t\t\t</dt>\n",
      "\t\t\t\t<dd>\n",
      "\t\t\t\t\t\n",
      "<div class=\"ad4\">\n",
      "    <a  href=\"http://www.mnw.cn/quanzhou/dehua/xw/2071846.html\" target=\"_blank\">\n",
      "\t<img src=\"http://upload.mnw.cn/2019/0104/thumb_230_300_1546586684546.jpg\"  style=\"width:230px;height:300px\" alt=\"德化牛母岐层林尽染五彩斑斓\" />\n",
      "\t<p>德化牛母岐层林尽染五彩斑斓</p>\n",
      "    </a>\n",
      "</div>\n",
      "\n",
      " \n",
      "\t\t\t\t\t<ul class=\"list\">\n",
      " <li class=\"ibg\"><a target=\"_blank\" href=\"http://www.mnw.cn/news/shehui/2263667.html\">3月21日西班牙疫情最新消息：新增新冠肺炎确诊病例494</a><br><span>2020-03-21 19:18</span></li>\n",
      " <li class=\"ibg\"><a target=\"_blank\" href=\"http://www.mnw.cn/news/shehui/2263666.html\">比利时3月21日疫情最新消息：新增568例新冠肺炎确诊病</a><br><span>2020-03-21 19:18</span></li>\n",
      " <li class=\"ibg\"><a target=\"_blank\" href=\"http://www.mnw.cn/news/shehui/2263665.html\">鄂尔多斯中心医院医生汤萌简历照片 被病人持刀捅伤</a><br><span>2020-03-21 19:12</span></li>\n",
      " <li class=\"ibg\"><a target=\"_blank\" href=\"http://www.mnw.cn/news/world/2263664.html\">3月21日以色列疫情最新消息：累计确诊人数883例</a><br><span>2020-03-21 18:37</span></li>\n",
      " <li class=\"ibg\"><a target=\"_blank\" href=\"http://www.mnw.cn/news/china/2263663.html\">一境外输入病例四次咽拭子阴性 北京1例美国输入病例详</a><br><span>2020-03-21 18:37</span></li>\n",
      " <li class=\"ibg\"><a target=\"_blank\" href=\"http://www.mnw.cn/news/world/2263661.html\">3月21日非洲疫情最新通报：确诊破1000例 23例死亡</a><br><span>2020-03-21 18:37</span></li>\n",
      " <li class=\"ibg\"><a target=\"_blank\" href=\"http://www.mnw.cn/news/shehui/2263660.html\">广州毒王坐遍14条地铁？网传照片是假的、配文也不实</a><br><span>2020-03-21 18:37</span></li>\n",
      "</ul>\n",
      "\t\t\t\t\t<ul class=\"list\" style=\"display:none\">\n",
      " <li class=\"ibg\">\n",
      "    <a target=\"_blank\" href=\"http://www.mnw.cn/tv/guonei/2263579.html\">鬓边不是海棠红汤晶媚演绎曾爱玉美人傲骨 霸屏月全面</a><br><span>2020-03-20 17:37</span></li>\n",
      " <li class=\"ibg\">\n",
      "    <a target=\"_blank\" href=\"http://www.mnw.cn/tv/guonei/2263580.html\">绿水青山带笑颜杜笑语结局是什么 最后事业爱情双丰收</a><br><span>2020-03-20 17:36</span></li>\n",
      " <li class=\"ibg\">\n",
      "    <a target=\"_blank\" href=\"http://www.mnw.cn/tv/guonei/2263573.html\">《重生》枪支序列号暗藏714枪案线索 “完美”律师缘何</a><br><span>2020-03-20 17:34</span></li>\n",
      " <li class=\"ibg\">\n",
      "    <a target=\"_blank\" href=\"http://www.mnw.cn/tv/guonei/2263575.html\">《冰糖炖雪梨》片尾曲是什么歌 《当遇见你》谁唱的</a><br><span>2020-03-20 17:33</span></li>\n",
      " <li class=\"ibg\">\n",
      "    <a target=\"_blank\" href=\"http://www.mnw.cn/tv/guonei/2263577.html\">黄晓明《鬓边不是海棠红》剧照曝光 举手投足尽显绅士</a><br><span>2020-03-20 17:33</span></li>\n",
      " <li class=\"ibg\">\n",
      "    <a target=\"_blank\" href=\"http://www.mnw.cn/tv/guonei/2263578.html\">李宗翰《安家》收官新剧接档 做到真正的“剧抛式演绎</a><br><span>2020-03-20 17:33</span></li>\n",
      " <li class=\"ibg\">\n",
      "    <a target=\"_blank\" href=\"http://www.mnw.cn/tv/guonei/2263567.html\">安家潘贵雨结局猜测解析 潘贵雨扮演者丁嘉丽个人资料</a><br><span>2020-03-20 17:27</span></li>\n",
      "</ul>\n",
      "\t\t\t\t\t<ul class=\"list\" style=\"display:none\">\n",
      " <li class=\"ibg\">\n",
      "    <a target=\"_blank\" href=\"http://www.mnw.cn/news/fj/2263626.html\">福建“闭环式管理”严防境外输入</a><br><span>2020-03-21 09:51</span></li>\n",
      " <li class=\"ibg\">\n",
      "    <a target=\"_blank\" href=\"http://www.mnw.cn/news/fj/2263624.html\">于伟国到福州调研推动重点企业生产和重大项目建设</a><br><span>2020-03-21 09:50</span></li>\n",
      " <li class=\"ibg\">\n",
      "    <a target=\"_blank\" href=\"http://www.mnw.cn/news/fj/2263623.html\">福建省人大常委会通过全国首个尊医重卫决议</a><br><span>2020-03-21 09:50</span></li>\n",
      " <li class=\"ibg\">\n",
      "    <a target=\"_blank\" href=\"http://www.mnw.cn/news/fj/2263625.html\">2020福建高三质检确定线上考 3月28-29日这么考！</a><br><span>2020-03-21 09:48</span></li>\n",
      " <li class=\"ibg\">\n",
      "    <a target=\"_blank\" href=\"http://www.mnw.cn/news/fj/2263622.html\">福建省各级人社部门多措并举将关爱医务人员措施落到实</a><br><span>2020-03-21 09:46</span></li>\n",
      " <li class=\"ibg\">\n",
      "    <a target=\"_blank\" href=\"http://www.mnw.cn/news/fj/2263607.html\">福建省新型冠状病毒肺炎疫情情况</a><br><span>2020-03-21 09:13</span></li>\n",
      " <li class=\"ibg\">\n",
      "    <a target=\"_blank\" href=\"http://www.mnw.cn/news/pingtan/2263534.html\">实验区开展安全生产大检查 进一步保障企业安全生产</a><br><span>2020-03-20 17:18</span></li>\n",
      "</ul>\n",
      "\t\t\t\t\t<ul class=\"list\" style=\"display:none\">\n",
      " <li class=\"ibg\">\n",
      "    <a target=\"_blank\" href=\"http://www.mnw.cn/quanzhou/luojiang/2263649.html\">泉州洛江区开展印刷行业安全生产培训会</a><br><span>2020-03-21 14:30</span></li>\n",
      " <li class=\"ibg\">\n",
      "    <a target=\"_blank\" href=\"http://www.mnw.cn/quanzhou/news/2263590.html\">泉州市委召开安全生产专题会：深刻反省反思 守好底线</a><br><span>2020-03-21 08:53</span></li>\n",
      " <li class=\"ibg\">\n",
      "    <a target=\"_blank\" href=\"http://www.mnw.cn/quanzhou/news/2263592.html\">王永礼调研房屋隐患排查、复工复产及疫情防控工作</a><br><span>2020-03-21 08:53</span></li>\n",
      " <li class=\"ibg\">\n",
      "    <a target=\"_blank\" href=\"http://www.mnw.cn/quanzhou/news/2263594.html\">泉州开通24小时海外热线 为广大乡亲侨胞服务</a><br><span>2020-03-21 08:53</span></li>\n",
      " <li class=\"ibg\">\n",
      "    <a target=\"_blank\" href=\"http://www.mnw.cn/quanzhou/news/2263595.html\">泉州天气预报：未来一周多云天气成主角 气温升高利春</a><br><span>2020-03-21 08:53</span></li>\n",
      " <li class=\"ibg\">\n",
      "    <a target=\"_blank\" href=\"http://www.mnw.cn/quanzhou/news/2263596.html\">泉州开展安全生产隐患大排查大整治行动 各企业积极响</a><br><span>2020-03-21 08:53</span></li>\n",
      " <li class=\"ibg\">\n",
      "    <a target=\"_blank\" href=\"http://www.mnw.cn/quanzhou/news/2263597.html\">让古城路网“活”起来 社区巴士增班次经南俊北路片区</a><br><span>2020-03-21 08:53</span></li>\n",
      "</ul>\n",
      "\t\t\t\t\t<ul class=\"list\" style=\"display:none\">\n",
      " <li class=\"ibg\">\n",
      "    <a target=\"_blank\" href=\"http://zz.mnw.cn/news/2263614.html\">3月20日退（免）税新政施行 漳州市出口企业受益</a><br><span>2020-03-21 09:12</span></li>\n",
      " <li class=\"ibg\">\n",
      "    <a target=\"_blank\" href=\"http://zz.mnw.cn/zhangpu/xw/2263615.html\">漳浦率先推行预包装食品销售“证照联办”审批时间压缩</a><br><span>2020-03-21 09:12</span></li>\n",
      " <li class=\"ibg\">\n",
      "    <a target=\"_blank\" href=\"http://zz.mnw.cn/yunxiao/xw/2263616.html\">云霄开展工业项目大比拼：实施“三比三拼”助力竞赛</a><br><span>2020-03-21 09:12</span></li>\n",
      " <li class=\"ibg\">\n",
      "    <a target=\"_blank\" href=\"http://zz.mnw.cn/zhaoan/xw/2263617.html\">诏安：全力推进“生态建设年”活动</a><br><span>2020-03-21 09:12</span></li>\n",
      " <li class=\"ibg\">\n",
      "    <a target=\"_blank\" href=\"http://zz.mnw.cn/news/2263612.html\">漳州台商投资区保税物流中心（B型）正式封关运行</a><br><span>2020-03-21 09:11</span></li>\n",
      " <li class=\"ibg\">\n",
      "    <a target=\"_blank\" href=\"http://zz.mnw.cn/news/2263613.html\">漳州启动疫情期间省级电商扶持资金申报 最高奖励100万</a><br><span>2020-03-21 09:10</span></li>\n",
      " <li class=\"ibg\">\n",
      "    <a target=\"_blank\" href=\"http://zz.mnw.cn/news/2263611.html\">漳州市委常委会召开会议 市委书记邵玉龙主持</a><br><span>2020-03-21 09:10</span></li>\n",
      "</ul>\n",
      "\t\t\t\t\t<ul class=\"list\" style=\"display:none\">\n",
      " <li class=\"ibg\">\n",
      "    <a target=\"_blank\" href=\"http://www.mnw.cn/xiamen/news/2263608.html\">厦门兴湖路附近发生绿化带陷落现场图 司机绕路通行</a><br><span>2020-03-21 09:12</span></li>\n",
      " <li class=\"ibg\">\n",
      "    <a target=\"_blank\" href=\"http://www.mnw.cn/xiamen/news/2263604.html\">狐尾山仙岳山林相改造预计6月完工 一期工程已基本完成</a><br><span>2020-03-21 09:11</span></li>\n",
      " <li class=\"ibg\">\n",
      "    <a target=\"_blank\" href=\"http://www.mnw.cn/xiamen/news/2263606.html\">厦门鲲鹏超算中心正式建成上线 首批9家单位入驻</a><br><span>2020-03-21 09:11</span></li>\n",
      " <li class=\"ibg\">\n",
      "    <a target=\"_blank\" href=\"http://www.mnw.cn/xiamen/news/2263602.html\">厦门市委统战部密切联系海外侨胞 防控境外疫情输入</a><br><span>2020-03-21 08:54</span></li>\n",
      " <li class=\"ibg\">\n",
      "    <a target=\"_blank\" href=\"http://www.mnw.cn/xiamen/news/2263603.html\">风雨同舟共渡难关！厦门港向釜山港捐赠防疫物资</a><br><span>2020-03-21 08:54</span></li>\n",
      " <li class=\"ibg\">\n",
      "    <a target=\"_blank\" href=\"http://www.mnw.cn/xiamen/news/2263601.html\">厦门研究2020年全市党建工作要点 加快推进项目建设</a><br><span>2020-03-21 08:53</span></li>\n",
      " <li class=\"ibg\">\n",
      "    <a target=\"_blank\" href=\"http://www.mnw.cn/xiamen/news/2263308.html\">关键工序重大突破 厦门地铁3号线岛内段全线贯通</a><br><span>2020-03-20 10:25</span></li>\n",
      "</ul>\n",
      "\t\t\t</dd>\n",
      "\t\t</dl>\n",
      "\t<div style=\"width:640px;margin: 0px auto 5px;\"><script>(function() {var s = \"_\" + Math.random().toString(36).slice(2);document.write('<div id=\"' + s + '\"></div>');(window.slotbydup=window.slotbydup || []).push({id: '6004771',container: s,size: '0,0',display: 'inlay-fix'});})();</script></div>\n",
      "\t\t\t <dl class=\"llist\">\n",
      "    <dt><b>猜你喜欢:</b></dt>\n",
      "    <dd>\n",
      "<div class=\"ibg\" ><a href=\"http://www.mnw.cn/news/shehui/2263609.html\" target=\"_blank\">3月21日陕西疫情最新消息：新增1例英国输入病例详情</a><span>2020-03-21</span></div>\t\t\t\n",
      "<div class=\"ibg\" ><a href=\"http://www.mnw.cn/news/digi/2262558.html\" target=\"_blank\">iphone12曝光最新消息汇总：搭载5.4英寸京东方OLED屏</a><span>2020-03-18</span></div>\t\t\t\n",
      "<div class=\"ibg\" ><a href=\"http://www.mnw.cn/news/world/2262666.html\" target=\"_blank\">3月19日意大利疫情最新消息情况：累计确诊35713例新冠肺炎</a><span>2020-03-19</span></div>\t\t\t\n",
      "</dd></dl>\n",
      "\t<div id=\"bdcs-frame-box\"></div>\n",
      "<script>(function() {var s = \"_\" + Math.random().toString(36).slice(2);document.write('<div id=\"' + s + '\"></div>');(window.slotbydup=window.slotbydup || []).push({id: '6016392',container: s,size: '0,0',display: 'inlay-fix'});})();</script>\n",
      "\n",
      "<dl class=\"comment-form\" style=\"clear:both;\" id=\"comment_form_1584492467\">\n",
      "<dt>\n",
      "\t<div class=\"t\">评论<span>(</span><a target=\"_blank\" href=\"http://www.mnw.cn/news/china/2262304.html\">3月18日香港疫情最新消息：新增10例新冠肺炎确诊病例</a><span>)</span></div>\n",
      "</dt>\n",
      "\t<dd class=\"c-inner\">\n",
      "\t\t<form method=\"post\" action=\"http://app.mnw.cn/?app=comment&amp;controller=review&amp;action=add\">\n",
      "\t\t\t<input type=\"hidden\" value=\"\" name=\"topicid\">\n",
      "\t\t\t<input type=\"hidden\" value=\"\" name=\"followid\">\n",
      "\t\t\t<a href=\"javascript:;\" class=\"icon\"><img src=\"http://img.mnw.cn/images/noavatar_small.gif\" alt=\"\"></a>\n",
      "\t\t\t<div class=\"textarea-wrap\">\n",
      "\t\t\t\t<div class=\"login-warn\" style=\"display: none;\">\n",
      "\t\t\t\t\t<p class=\"info\">\n",
      "\t\t\t\t\t您需要登录后才可以评论，\n",
      "\t\t\t\t\t<a hidefocus=\"true\" class=\"cloud-login\" rel=\"nofollow\"  href=\"javascript:;\">登录</a>|\n",
      "\t\t\t\t\t<a hidefocus=\"true\"  rel=\"nofollow\" href=\"http://app.mnw.cn/?app=member&amp;controller=index&amp;action=register\">注册</a>\n",
      "\t\t\t\t\t</p>\n",
      "\t\t\t\t</div>\n",
      "\t\t\t<textarea class=\"textarea\"  hint=\"来说两句吧.......\" name=\"content\">来说两句吧.......</textarea>\n",
      "\t\t\t\t<div class=\"cb\">\n",
      "\t\t\t\t\t\t<input type=\"submit\"  class=\"btn-post\" value=\"发 布\" />\n",
      "\t\t\t\t</div>\n",
      "\t\t\t</div>\n",
      "\t\t\t<div class=\"logstate\">\n",
      "\t\t\t\t<div style=\"overflow:hidden\" class=\"ov\">\n",
      "\t\t\t\t\t<div class=\"loginform-user-info\"><div>\n",
      "\t\t<span class=\"info\">\n",
      "\t\t\t<a class=\"cloud-login\"  rel=\"nofollow\" href=\"javascript:;\">登录</a>\n",
      "\t\t\t|\n",
      "\t\t\t<a rel=\"nofollow\" href=\"#http://app.mnw.cn/?app=member&amp;controller=index&amp;action=register\">注册</a>\n",
      "\t\t</span>\n",
      "\t\t<div style=\"visibility: hidden;\" class=\"seccode-area\"></div>\n",
      "\t</div>\n",
      "\t\t\t<div class=\"username-area\" style=\"display:none\"></div>\n",
      "\t\t\t\t<span class=\"anonymous\" style=\"display:none\">\n",
      "\t\t\t\t\t<label class=\"label-anonymous\"><input type=\"checkbox\" name=\"anonymous\" value=\"1\" style=\"vertical-align: middle;\">匿名发表</label>\n",
      "\t\t\t\t</span>\n",
      "\t\t\t\t<div class=\"share-area\"></div>\n",
      "\t\t\t\t<div style=\"visibility: hidden;\" class=\"seccode-area\"></div>\n",
      "\t\t\t </div>\n",
      "\t\t </div>\n",
      "\t\t</form>\n",
      "\n",
      "<script id=\"afterlogin_1584492467\" type=\"text/template\">\n",
      "\t<div>\n",
      "\t\t<span class=\"username-area info\">\n",
      "\t\t\t<em></em>\n",
      "\t\t\t<a class=\"quickLogout\" href=\"javascript:;\">退出</a>\n",
      "\t\t</span>\n",
      "\t\t<span class=\"anonymous\"></span>\n",
      "\t\t<div class=\"share-area\"></div>\n",
      "\t\t<div class=\"seccode-area\" style=\"visibility: hidden;\"></div>\n",
      "\t</div>\n",
      "</script>\n",
      "<script id=\"beforelogin_1584492467\" type=\"text/template\">\n",
      "\t<div>\n",
      "\t\t<span class=\"info\">\n",
      "\t\t\t<a href=\"javascript:;\" class=\"cloud-login\">登录</a>\n",
      "\t\t\t|\n",
      "\t\t\t<a href=\"#http://app.mnw.cn/?app=member&controller=index&action=register\">注册</a>\n",
      "\t\t</span>\n",
      "\t\t<div class=\"seccode-area\" style=\"visibility: hidden;\"></div>\n",
      "\t</div>\n",
      "</script>\n",
      "\t</dd>\n",
      "</dl>\n",
      "\t<dl class=\"commlist\">\n",
      "\t\t<dt>热门评论:</dt>\n",
      "\t</dl>\n",
      "\t<script>\n",
      "(function() {\n",
      "    var s = \"_\" + Math.random().toString(36).slice(2);\n",
      "    document.write('<div id=\"' + s + '\"></div>');\n",
      "    (window.slotbydup=window.slotbydup || []).push({\n",
      "        id: '2920316',\n",
      "        container: s,\n",
      "        size: '0,0',\n",
      "        display: 'inlay-fix'\n",
      "    });\n",
      "})();\n",
      "</script>\n",
      "\t</div>\n",
      "\t<div class=\"r\">\n",
      "                <dl class=\"nl\">\n",
      "\t<dt>频道<span>推荐</span></dt>\n",
      "\t<dd>\n",
      "\t<div class=\"f\">\n",
      "    <img src=\"http://upload.mnw.cn/2019/1210/thumb_120_70_1575947901121.jpg\" alt=\"发展改革委：预计今年年底全国250组省界收费站撤站工作将全部完成\" />\n",
      "    <p><a href=\"http://www.mnw.cn/news/cj/2229164.html\" target=\"_blank\">发展改革委：预计今年年底全国250组省界收</a>2019-12-10</p>\n",
      "</div>\n",
      "<li><a target=\"_blank\"  href=\"http://www.mnw.cn/news/shehui/2263667.html\">3月21日西班牙疫情最新消息：新增新冠肺炎</a></li>\n",
      "<li><a target=\"_blank\"  href=\"http://www.mnw.cn/news/shehui/2263666.html\">比利时3月21日疫情最新消息：新增568例新冠</a></li>\n",
      "<li><a target=\"_blank\"  href=\"http://www.mnw.cn/news/shehui/2263665.html\">鄂尔多斯中心医院医生汤萌简历照片 被病人</a></li>\n",
      "        </dd>\n",
      "</dl>\n",
      "        \t\t<div style=\"width:300px;margin: 0px auto 5px;\"><script>(function() {var s = \"_\" + Math.random().toString(36).slice(2);document.write('<div id=\"' + s + '\"></div>');(window.slotbydup=window.slotbydup || []).push({id: '6004692',container: s,size: '0,0',display: 'inlay-fix'});})();</script><script src=\"http://dup.baidustatic.com/js/os.js\"></script></div>\n",
      "\t\t<dl class=\"nl\">\n",
      "    <dt>新闻<span>推荐</span></dt>\n",
      "\t<dd class=\"l2\">\n",
      "\t\t\n",
      "             <a target=\"_blank\"  class=\"f\"   href=\"http://www.mnw.cn/news/shehui/2240456.html\">呼伦贝尔现幻日奇观 彩虹光带环绕太阳</a>\n",
      "\t\t\n",
      "             <a target=\"_blank\"  href=\"http://www.mnw.cn/news/china/2240913.html\">赖小民案细节：家里两亿现金一分不敢花</a>\n",
      "\t\t\n",
      "             <a target=\"_blank\"  href=\"http://www.mnw.cn/news/shehui/2213481.html\">携号转网来了 11月底前全国提供服务</a>\n",
      "\t\t\n",
      "             <a target=\"_blank\"  href=\"http://www.mnw.cn/news/shehui/2200147.html\">明年国庆中秋是同一天 有没有6倍工资？</a>\n",
      "\t\t\n",
      "             <a target=\"_blank\"  href=\"http://www.mnw.cn/news/china/2199633.html\">农村微腐败不鲜见 把权力装进“笼子”</a>\n",
      "        </dd>\n",
      "</dl>\n",
      "\t\t<div style=\"width:300px;margin: 0px auto 5px;\"><script>\n",
      "(function() {\n",
      "    var s = \"_\" + Math.random().toString(36).slice(2);\n",
      "    document.write('<div id=\"' + s + '\"></div>');\n",
      "    (window.slotbydup=window.slotbydup || []).push({\n",
      "        id: '3122888',\n",
      "        container: s,\n",
      "        size: '0,0',\n",
      "        display: 'inlay-fix'\n",
      "    });\n",
      "})();\n",
      "</script>\n",
      "<script src=\"http://dup.baidustatic.com/js/os.js\"></script></div>\n",
      "\t\t<dl class=\"nl\">\n",
      "    <dt>视觉<span>焦点</span></dt>\n",
      "\t<dd class=\"l3\">\n",
      "\n",
      "\t\t\t\n",
      "\t<div  >\n",
      "         <a target=\"_blank\"    href=\"http://www.mnw.cn/photo/ss/2208734.html\">\n",
      "\t\t <img alt=\"石狮：秋风起，紫菜香\" src=\"http://upload.mnw.cn/2019/1014/thumb_145_95_1571017040195.jpg\"></a>  \n",
      "        <a target=\"_blank\"   class=\"t\"  href=\"http://www.mnw.cn/photo/ss/2208734.html\">石狮：秋风起，紫菜香</a> \n",
      "        </div>\n",
      "\n",
      " \t\t\t\n",
      "\t<div    class=\"ml\"  >\n",
      "         <a target=\"_blank\"    href=\"http://www.mnw.cn/photo/ss/2208741.html\">\n",
      "\t\t <img alt=\"石狮峡谷旅游路“百日草”争相斗艳\" src=\"http://upload.mnw.cn/2019/1014/thumb_145_95_1571017371606.jpg\"></a>  \n",
      "        <a target=\"_blank\"   class=\"t\"  href=\"http://www.mnw.cn/photo/ss/2208741.html\">石狮峡谷旅游路“百日草”争相斗艳</a> \n",
      "        </div>\n",
      "\n",
      " \t\t\t\n",
      "\t<div  >\n",
      "         <a target=\"_blank\"    href=\"http://www.mnw.cn/photo/ss/2208756.html\">\n",
      "\t\t <img alt=\"石狮环湾生态公园内粉黛乱子草盛放\" src=\"http://upload.mnw.cn/2019/1014/thumb_145_95_1571018436938.jpg\"></a>  \n",
      "        <a target=\"_blank\"   class=\"t\"  href=\"http://www.mnw.cn/photo/ss/2208756.html\">石狮环湾生态公园内粉黛乱子草盛放</a> \n",
      "        </div>\n",
      "\n",
      " \t\t\t\n",
      "\t<div    class=\"ml\"  >\n",
      "         <a target=\"_blank\"    href=\"http://www.mnw.cn/photo/ss/2208774.html\">\n",
      "\t\t <img alt=\"石狮濠江路边异木棉盛开\" src=\"http://upload.mnw.cn/2019/1014/thumb_145_95_1571018952444.jpg\"></a>  \n",
      "        <a target=\"_blank\"   class=\"t\"  href=\"http://www.mnw.cn/photo/ss/2208774.html\">石狮濠江路边异木棉盛开</a> \n",
      "        </div>\n",
      "\n",
      "        </dd>\n",
      "</dl>\n",
      "\t\t<div style=\"width:300px;margin: 0px auto 5px;\"><script>(function() {var s = \"_\" + Math.random().toString(36).slice(2);document.write('<div id=\"' + s + '\"></div>');(window.slotbydup=window.slotbydup || []).push({id: '6004446',container: s,size: '0,0',display: 'inlay-fix'});})();</script><script src=\"http://dup.baidustatic.com/js/os.js\"></script></div>\n",
      "\t\t<dl class=\"nl\">\n",
      "    <dt>精彩<span>视频</span></dt>\n",
      "\t<dd class=\"l4\">\n",
      "\n",
      "\n",
      "<div  >\n",
      "         <a target=\"_blank\" href=\"http://www.mnw.cn/video/news/2198834.html\">\n",
      "\t\t <div class=\"m\"></div>\n",
      "\t\t <img alt=\"泉州公交让城市生活更美好\" src=\"http://upload.mnw.cn/2019/0911/thumb_140_80_1568197759264.png\"></a>  \n",
      "        <a target=\"_blank\"   class=\"t\"  href=\"http://www.mnw.cn/video/news/2198834.html\">泉州公交让城市生活更美好</a> \n",
      "</div>\n",
      "\n",
      "\n",
      "<div   class=\"ml\" >\n",
      "         <a target=\"_blank\" href=\"http://www.mnw.cn/video/news/2198833.html\">\n",
      "\t\t <div class=\"m\"></div>\n",
      "\t\t <img alt=\"泉州公交“我和我的祖国”快闪\" src=\"http://upload.mnw.cn/2019/0911/thumb_140_80_1568197356817.png\"></a>  \n",
      "        <a target=\"_blank\"   class=\"t\"  href=\"http://www.mnw.cn/video/news/2198833.html\">泉州公交“我和我的祖国”快闪</a> \n",
      "</div>\n",
      "\n",
      "\n",
      "<div  >\n",
      "         <a target=\"_blank\" href=\"http://www.mnw.cn/video/news/2195412.html\">\n",
      "\t\t <div class=\"m\"></div>\n",
      "\t\t <img alt=\"2019泉州智慧城市高峰论坛\" src=\"http://upload.mnw.cn/2019/0902/thumb_140_80_1567418086797.jpg\"></a>  \n",
      "        <a target=\"_blank\"   class=\"t\"  href=\"http://www.mnw.cn/video/news/2195412.html\">2019泉州智慧城市高峰论坛</a> \n",
      "</div>\n",
      "\n",
      "\n",
      "<div   class=\"ml\" >\n",
      "         <a target=\"_blank\" href=\"http://www.mnw.cn/video/news/2181168.html\">\n",
      "\t\t <div class=\"m\"></div>\n",
      "\t\t <img alt=\"泉州发布政务微信影响力榜单 政务新媒体培训交流会同步开展\" src=\"http://upload.mnw.cn/2019/1204/thumb_140_80_1575423275452.jpg\"></a>  \n",
      "        <a target=\"_blank\"   class=\"t\"  href=\"http://www.mnw.cn/video/news/2181168.html\">泉州发布政务微信影响力榜单 政务新媒体培训交流会同步开展</a> \n",
      "</div>\n",
      "\n",
      "        </dd>\n",
      "</dl>\n",
      "\t\t<dl class=\"nl \">\n",
      "\t<dt>专题<span>推荐</span></dt>\n",
      "\t\t<dd class=\"l5\">\n",
      "\n",
      "\t\t<a target=\"_blank\"  class=\"f\" href=\"http://www.mnw.cn/zt/2019/fwyl\">关注泉城养老服务 打造幸福老年生活</a>\n",
      "\t\t<div class=\"f f2\">\n",
      "    \t\t    <a href=\"http://www.mnw.cn/zt/2019/fwyl\"  target=\"_blank\" ><img src=\"http://upload.mnw.cn/2019/1112/thumb_120_70_1573548533602.png\" alt=\"关注泉城养老服务 打造幸福老年生活\" /></a>\n",
      "\t\t    <p>闽南网推出专题报道，以图、文、视频等形式，展现泉州在补齐养老事业短板，提升养老服</p>\n",
      "\t\t</div>\t\n",
      " \n",
      "                <a target=\"_blank\" href=\"http://www.mnw.cn/news/china/qz70\">弦歌不辍 步履铿锵——庆祝中华人民共和国</a></br>\n",
      " \n",
      "                <a target=\"_blank\" href=\"http://www.mnw.cn/quanzhou/2019qzlh\">2019年泉州两会专题</a></br>\n",
      "</dl>\n",
      "<script>\n",
      "(function() {\n",
      "    var s = \"_\" + Math.random().toString(36).slice(2);\n",
      "    document.write('<div id=\"' + s + '\"></div>');\n",
      "    (window.slotbydup=window.slotbydup || []).push({\n",
      "        id: '2937868',\n",
      "        container: s,\n",
      "        size: '0,0',\n",
      "        display: 'inlay-fix'\n",
      "    });\n",
      "})();\n",
      "</script>\n",
      "<script src=\"http://dup.baidustatic.com/js/os.js\"></script>\n",
      "<div style=\"line-height:12px;\">&nbsp;</div>\n",
      "\t\t\n",
      "\t\t<dl class=\"nl st\">\n",
      "    <dt>48小时<span>点击排行榜</span></dt>\n",
      "\t<dd class=\"ibg\">\n",
      " \n",
      "    \t <a target=\"_blank\"  href=\"http://www.mnw.cn/news/world/2263631.html\">特朗普宣布纽约州为疫情重大灾区 将提供</a>\n",
      " \n",
      "    \t <a target=\"_blank\"  href=\"http://www.mnw.cn/news/world/2263633.html\">3月21日澳大利亚疫情最新统计 确诊病例累</a>\n",
      " \n",
      "    \t <a target=\"_blank\"  href=\"http://www.mnw.cn/news/world/2263634.html\">3月21日意大利疫情最新数据：新增确诊病</a>\n",
      " \n",
      "    \t <a target=\"_blank\"  href=\"http://www.mnw.cn/news/world/2263635.html\">3月21日美国疫情最新数据通报：累计确诊</a>\n",
      " \n",
      "    \t <a target=\"_blank\"  href=\"http://www.mnw.cn/news/world/2263636.html\">彭斯发言人称副总统办公室一名职员新冠病</a>\n",
      " \n",
      "    \t <a target=\"_blank\"  href=\"http://www.mnw.cn/news/world/2263637.html\">3月21日德国疫情最新通报：新冠肺炎确诊</a>\n",
      " \n",
      "    \t <a target=\"_blank\"  href=\"http://www.mnw.cn/news/shehui/2263638.html\">3月21日河北邢台疫情最新消息 通报一无症</a>\n",
      " \n",
      "    \t <a target=\"_blank\"  href=\"http://www.mnw.cn/news/china/2263639.html\">2020疫情武汉市全市解封还需要多久？要达</a>\n",
      "<script>(function() {var s = \"_\" + Math.random().toString(36).slice(2);document.write('<div id=\"' + s + '\"></div>');(window.slotbydup=window.slotbydup || []).push({id: '6004410',container: s,size: '0,0',display: 'inlay-fix'});})();</script><script src=\"http://dup.baidustatic.com/js/os.js\"></script>\n",
      "        </dd>\n",
      "\t<dd  class=\"c2 ibg\"></dd>\n",
      "</dl>\n",
      "<div style=\"display:none;\">\n",
      "<script>\n",
      "var _hmt = _hmt || [];\n",
      "(function() {\n",
      "  var hm = document.createElement(\"script\");\n",
      "  hm.src = \"//hm.baidu.com/hm.js?dc295c01dd87f76bb79d8eb3b427a014\";\n",
      "  var s = document.getElementsByTagName(\"script\")[0]; \n",
      "  s.parentNode.insertBefore(hm, s);\n",
      "})();\n",
      "</script>\n",
      "</div>\n",
      "\t</div>\n",
      "</div>\n",
      "<div class=\"totop\">\n",
      "\t<a href=\"http://www.mnw.cn\" class=\"h ibg\"></a>\n",
      "\t<a href=\"#\"  rel=\"nofollow\" class=\"t ibg\"></a>\n",
      "</div>\n",
      "<script type=\"text/javascript\" src=\"http://img.mnw.cn/script/info/comment.post.js\"></script>\n",
      "<script type=\"text/javascript\">\n",
      "\tfet.setAlias({IMG_URL: \"http://img.mnw.cn/\"});\n",
      "\tform = $('#comment_form_'+rid).find('form');\n",
      "\tcommentPost = new CommentPost({\n",
      "\t\tform: form,\n",
      "\t\tisLogin: 1,\n",
      "\t\tisCheck: 1,\n",
      "\t\tisSeccode: 1,\n",
      "\t\ttopicid: topicid,\n",
      "\t\tafterLoginTemplate: $('#afterlogin_'+rid).html(),\n",
      "\t\tbeforeLoginTemplate: $('#beforelogin_'+rid).html(),\n",
      "\t\tuserInfoPanel: form.find('.loginform-user-info'),\n",
      "\t\twarningPanel: form.find('.login-warn'),\n",
      "\t\tloginSelector: '.cloud-login',\n",
      "\t\tlogoutSelector: '.quickLogout'\n",
      "\t});\n",
      "\n",
      "</script>\n",
      "<script type=\"text/javascript\"  src=\"http://img.mnw.cn/script/info/info.js\"></script>\n",
      "<script type=\"text/javascript\" src=\"http://img.mnw.cn/script/info/bottom.js\"></script>\n",
      "<div style=\"display:none\"><script src=\"https://s9.cnzz.com/z_stat.php?id=3301342&web_id=3301342\" language=\"JavaScript\"></script></div>\n",
      "<script>window._bd_share_config={\"common\":{\"bdSnsKey\":{},\"bdText\":\"\",\"bdMini\":\"2\",\"bdMiniList\":false,\"bdPic\":\"\",\"bdStyle\":\"0\",\"bdSize\":\"16\"},\"share\":{},\"image\":{\"viewList\":[\"tsina\",\"weixin\"],\"viewText\":\"分享到：\",\"viewSize\":\"16\"},\"selectShare\":{\"bdContainerClass\":null,\"bdSelectMiniList\":[\"tsina\",\"weixin\"]}};with(document)0[(getElementsByTagName('head')[0]||body).appendChild(createElement('script')).src='http://bdimg.share.baidu.com/static/api/js/share.js?v=89860593.js?cdnversion='+~(-new Date()/36e5)];</script>\n",
      "<div style=\"display:none;\"><script src=\"https://s4.cnzz.com/z_stat.php?id=5209816&web_id=5209816\" language=\"JavaScript\"></script></div></body>\n",
      "</html>\n"
     ]
    }
   ],
   "source": [
    "url = 'http://www.mnw.cn/news/china/2262304.html'\n",
    "headers = {\n",
    "    'Accept': 'text/html,application/xhtml+xml,application/xml;q=0.9,image/webp,image/apng,*/*;q=0.8,application/signed-exchange;v=b3',\n",
    "    'User-Agent': random.choice(my_headers),}\n",
    "proxie = {\n",
    "    'http': '182.35.85.114:9999'\n",
    "}\n",
    "\n",
    "res = requests.get(url, headers=headers)\n",
    "print(res.encoding) \n",
    "res.encoding = 'ubf-8'\n",
    "print(res.text)"
   ]
  },
  {
   "cell_type": "code",
   "execution_count": 75,
   "metadata": {},
   "outputs": [
    {
     "data": {
      "text/plain": [
       "'3月18日香港疫情最新消息：新增10例新冠肺炎确诊病例-闽南网'"
      ]
     },
     "execution_count": 75,
     "metadata": {},
     "output_type": "execute_result"
    }
   ],
   "source": [
    "html = res.text\n",
    "title = re.findall(r'<title>(.*?)</title>', html)[0]\n",
    "title"
   ]
  },
  {
   "cell_type": "code",
   "execution_count": 96,
   "metadata": {},
   "outputs": [
    {
     "data": {
      "text/plain": [
       "['香港疫情最新消息：新增10例新冠肺炎确诊病例',\n",
       " '香港疫情最新消息：新增10例新冠肺炎确诊病例',\n",
       " '香港疫情最新消息：新增10例新冠肺炎确诊病例',\n",
       " '香港疫情最新消息：新增10例新冠肺炎确诊病例',\n",
       " '香港特区政府18日凌晨发布的新闻公报显示，香港昨日（17日）再新增5例新冠肺炎确诊病例，香港17日共新增10例确诊病例，其中8人曾赴欧洲，1人曾赴美国，另有1人未曾出境。截至17日20时，香港确诊病例累计167例，另有1例疑似病例',\n",
       " '香港昨日再新增的5例确诊病例',\n",
       " '香港昨日再新增的5例确诊病例',\n",
       " '香港卫生署卫生防护中心热线。<span>【环球网报道】</span></p>                            \\t\\t\\t\\t<div style=\"color:#848484;text-indent: 2em;\">原标题：香港昨日新增10例新冠肺炎确诊病例',\n",
       " '香港疫情最新消息：新增10例新冠肺炎确诊病例']"
      ]
     },
     "execution_count": 96,
     "metadata": {},
     "output_type": "execute_result"
    }
   ],
   "source": [
    "re.findall('香港.*例',html)"
   ]
  },
  {
   "cell_type": "code",
   "execution_count": 97,
   "metadata": {},
   "outputs": [
    {
     "data": {
      "text/plain": [
       "['香港17日共新增10例']"
      ]
     },
     "execution_count": 97,
     "metadata": {},
     "output_type": "execute_result"
    }
   ],
   "source": [
    "re.findall(r'香港\\d+.*?例',html)"
   ]
  },
  {
   "cell_type": "code",
   "execution_count": 79,
   "metadata": {},
   "outputs": [
    {
     "data": {
      "text/plain": [
       "['香港疫情最新消息：新增10例',\n",
       " '香港疫情最新消息：新增10例',\n",
       " '香港疫情最新消息：新增10例',\n",
       " '香港疫情最新消息：新增10例',\n",
       " '香港特区政府18日凌晨发布的新闻公报显示，香港昨日（17日）再新增5例新冠肺炎确诊病例，香港17日共新增10例',\n",
       " '香港卫生署卫生防护中心热线。<span>【环球网报道】</span></p>                            \\t\\t\\t\\t<div style=\"color:#848484;text-indent: 2em;\">原标题：香港昨日新增10例',\n",
       " '香港疫情最新消息：新增10例']"
      ]
     },
     "execution_count": 79,
     "metadata": {},
     "output_type": "execute_result"
    }
   ],
   "source": [
    "re.findall(r'香港.*新增\\d+例',html)"
   ]
  },
  {
   "cell_type": "code",
   "execution_count": 86,
   "metadata": {},
   "outputs": [
    {
     "data": {
      "text/plain": [
       "['香港特区政府18日凌晨发布的新闻公报显示，香港昨日（17日）再新增5例新冠肺炎确诊病例，香港17日共新增10例确诊病例，其中8人曾赴欧洲，1人曾赴美国，另有1人未曾出境。截至17日20时，香港确诊病例累计167例']"
      ]
     },
     "execution_count": 86,
     "metadata": {},
     "output_type": "execute_result"
    }
   ],
   "source": [
    "re.findall(r'香港.*?累计\\d+例',html)"
   ]
  },
  {
   "cell_type": "code",
   "execution_count": 85,
   "metadata": {},
   "outputs": [
    {
     "ename": "NameError",
     "evalue": "name '累计' is not defined",
     "output_type": "error",
     "traceback": [
      "\u001b[1;31m---------------------------------------------------------------------------\u001b[0m",
      "\u001b[1;31mNameError\u001b[0m                                 Traceback (most recent call last)",
      "\u001b[1;32m<ipython-input-85-e2111cae8180>\u001b[0m in \u001b[0;36m<module>\u001b[1;34m()\u001b[0m\n\u001b[1;32m----> 1\u001b[1;33m \u001b[0m累计\u001b[0m\u001b[1;33m\u001b[0m\u001b[0m\n\u001b[0m",
      "\u001b[1;31mNameError\u001b[0m: name '累计' is not defined"
     ]
    }
   ],
   "source": [
    "累计"
   ]
  },
  {
   "cell_type": "code",
   "execution_count": null,
   "metadata": {},
   "outputs": [],
   "source": []
  }
 ],
 "metadata": {
  "kernelspec": {
   "display_name": "Python 3",
   "language": "python",
   "name": "python3"
  },
  "language_info": {
   "codemirror_mode": {
    "name": "ipython",
    "version": 3
   },
   "file_extension": ".py",
   "mimetype": "text/x-python",
   "name": "python",
   "nbconvert_exporter": "python",
   "pygments_lexer": "ipython3",
   "version": "3.6.5"
  }
 },
 "nbformat": 4,
 "nbformat_minor": 2
}
